{
 "cells": [
  {
   "cell_type": "code",
   "execution_count": 1,
   "metadata": {},
   "outputs": [
    {
     "name": "stdout",
     "output_type": "stream",
     "text": [
      "192.168.1.10 is the IP address of Printer Server 1\n"
     ]
    }
   ],
   "source": [
    "IP_address = '192.168.1.10' \n",
    "host_name = '1'\n",
    "print(IP_address + \" is the IP address of Printer Server \" + host_name)\n",
    "# Should print \"192.168.1.10 is the IP address of Printer Server 1\""
   ]
  },
  {
   "cell_type": "code",
   "execution_count": null,
   "metadata": {},
   "outputs": [],
   "source": [
    "def exam_grade(score):\n",
    "    if score > 95:\n",
    "        grade = \"Top Score\"\n",
    "    elif score>55:\n",
    "        grade = \"Pass\"\n",
    "    else:\n",
    "        grade = \"Fail\"\n",
    "    return grade\n",
    "\n",
    "\n",
    "print(exam_grade(65)) # Should print Pass\n",
    "print(exam_grade(55)) # Should print Fail\n",
    "print(exam_grade(60)) # Should print Pass\n",
    "print(exam_grade(95)) # Should print Pass\n",
    "print(exam_grade(100)) # Should print Top Score\n",
    "print(exam_grade(0)) # Should print Fail"
   ]
  },
  {
   "cell_type": "code",
   "execution_count": null,
   "metadata": {},
   "outputs": [],
   "source": [
    "def fractional_part(numerator, denominator):\n",
    "    # Operate with numerator and denominator to\n",
    "    # keep just the fractional part of the quotient \n",
    "    if denominator == 0 or numerator== 0 or numerator == denominator:\n",
    "        part = 0\n",
    "    else:\n",
    "        part = (numerator/denominator)\n",
    "    return part\n",
    "\n",
    "\n",
    "print(fractional_part(5, 5)) # Should print 0\n",
    "print(fractional_part(5, 4)) # Should print 0.25\n",
    "print(fractional_part(5, 3)) # Should print 0.66...\n",
    "print(fractional_part(5, 2)) # Should print 0.5\n",
    "print(fractional_part(5, 0)) # Should print 0\n",
    "print(fractional_part(0, 5)) # Should print 0"
   ]
  },
  {
   "cell_type": "code",
   "execution_count": null,
   "metadata": {},
   "outputs": [],
   "source": [
    "def complementary_color(color):\n",
    "    if color == \"blue\":\n",
    "        complement = \"orange\"\n",
    "    elif color== \"yellow\":\n",
    "        complement = \"purple\"\n",
    "    elif color == \"red\":\n",
    "        complement = \"green\"\n",
    "    else:\n",
    "        complement = \"unknown\"\n",
    "    return complement\n",
    "\n",
    "print(complementary_color(\"blue\")) # Should print orange\n",
    "print(complementary_color(\"yellow\")) # Should print purple\n",
    "print(complementary_color(\"red\")) # Should print green\n",
    "print(complementary_color(\"black\")) # Should print unknown\n",
    "print(complementary_color(\"Blue\")) # Should print unknown\n",
    "print(complementary_color(\"\")) # Should print unknown"
   ]
  },
  {
   "cell_type": "code",
   "execution_count": null,
   "metadata": {},
   "outputs": [],
   "source": []
  }
 ],
 "metadata": {
  "kernelspec": {
   "display_name": "Python 3",
   "language": "python",
   "name": "python3"
  },
  "language_info": {
   "codemirror_mode": {
    "name": "ipython",
    "version": 3
   },
   "file_extension": ".py",
   "mimetype": "text/x-python",
   "name": "python",
   "nbconvert_exporter": "python",
   "pygments_lexer": "ipython3",
   "version": "3.11.3"
  },
  "orig_nbformat": 4
 },
 "nbformat": 4,
 "nbformat_minor": 2
}
