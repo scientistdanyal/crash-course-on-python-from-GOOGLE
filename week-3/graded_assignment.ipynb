{
 "cells": [
  {
   "cell_type": "code",
   "execution_count": null,
   "metadata": {},
   "outputs": [],
   "source": [
    "number = 1 # Initialize the variable\n",
    "while number <=7: # Complete the while loop condition\n",
    "    print(number, end=\" \")\n",
    "    number +=1 # Increment the variable\n",
    "\n",
    "# Should print 1 2 3 4 5 6 7 "
   ]
  },
  {
   "cell_type": "code",
   "execution_count": null,
   "metadata": {},
   "outputs": [],
   "source": [
    "for number in range(1,6):\n",
    "    if number % 2 == 0:\n",
    "        print(\"even\")\n",
    "    else:\n",
    "        print(\"odd\")\n",
    "\n",
    "\n",
    "# Should print:\n",
    "# odd\n",
    "# even\n",
    "# odd\n",
    "# even\n",
    "# odd"
   ]
  },
  {
   "cell_type": "code",
   "execution_count": null,
   "metadata": {},
   "outputs": [],
   "source": [
    "def even_numbers(n):\n",
    "    count = 0\n",
    "    current_number = n\n",
    "    while current_number >= 0: # Complete the while loop condition\n",
    "       if current_number == 0:\n",
    "           count+=1\n",
    "       else:  \n",
    "            if current_number % 2 == 0:\n",
    "               count+=1 # Increment the appropriate variable\n",
    "       current_number -=1 # Increment the appropriate variable\n",
    "    return count\n",
    "    \n",
    "print(even_numbers(25))   # Should print 13\n",
    "print(even_numbers(144))  # Should print 73\n",
    "print(even_numbers(1000)) # Should print 501\n",
    "print(even_numbers(0))    # Should print 1"
   ]
  },
  {
   "cell_type": "code",
   "execution_count": null,
   "metadata": {},
   "outputs": [],
   "source": [
    "def multiplication_table(start, stop):\n",
    "    # Complete the outer loop range\n",
    "    for x in range(start,stop+1): \n",
    "         # Complete the inner loop range\n",
    "        for y in range(start,stop+1):\n",
    "            # Prints the value of \"x\" multiplied by \"y\" \n",
    "            # and inserts a space after each value\n",
    "            print(x*y, end=\" \")\n",
    "        # An empty print() function inserts a line break at the \n",
    "        # end of the row \n",
    "        print('\\n')\n",
    "\n",
    "\n",
    "multiplication_table(1, 3)\n",
    "# Should print the multiplication table shown above\n"
   ]
  },
  {
   "cell_type": "code",
   "execution_count": null,
   "metadata": {},
   "outputs": [],
   "source": [
    "def counter(start, stop):\n",
    "    if start > stop:\n",
    "        return_string = \"Counting down: \"\n",
    "        while start>=stop:  # Complete the while loop\n",
    "            return_string+=str(start) # Add the numbers to the \"return_string\"\n",
    "            if start > stop:\n",
    "                return_string += \",\"\n",
    "            start -=1 # Increment the appropriate variable\n",
    "    else:\n",
    "        return_string = \"Counting up: \"\n",
    "        while start<=stop: # Complete the while loop\n",
    "            return_string +=str(start) # Add the numbers to the \"return_string\"\n",
    "            if start < stop:\n",
    "                return_string += \",\"\n",
    "            start+=1 # Increment the appropriate variable\n",
    "    return return_string\n",
    "\n",
    "\n",
    "print(counter(1, 10)) # Should be \"Counting up: 1,2,3,4,5,6,7,8,9,10\"\n",
    "print(counter(2, 1)) # Should be \"Counting down: 2,1\"\n",
    "print(counter(5, 5)) # Should be \"Counting up: 5\""
   ]
  },
  {
   "cell_type": "code",
   "execution_count": null,
   "metadata": {},
   "outputs": [],
   "source": [
    "def even_numbers(maximum):\n",
    "\n",
    "    return_string = \"\" # Initializes variable as a string\n",
    "\n",
    "    # Complete the for loop with a range that includes all even numbers\n",
    "    # up to and including the \"maximum\" value, but excluding 0.\n",
    "    if maximum >=2:\n",
    "        for x in range(2,maximum+1,2):\n",
    "            return_string+=str(x) + \" \"\n",
    "\n",
    "        # Complete the body of the loop by appending the even number\n",
    "        # followed by a space to the \"return_string\" variable.\n",
    "    else:\n",
    "        return_string ='No numbers displayed'  \n",
    "\n",
    "    # This .strip command will remove the final \" \" space at the end of\n",
    "    # the \"return_string\".\n",
    "    return return_string.strip() \n",
    "\n",
    "print(even_numbers(6))  # Should be 2 4 6\n",
    "print(even_numbers(10)) # Should be 2 4 6 8 10\n",
    "print(even_numbers(1))  # No numbers displayed\n",
    "print(even_numbers(3))  # Should be 2\n",
    "print(even_numbers(0))  # No numbers displayed"
   ]
  },
  {
   "cell_type": "code",
   "execution_count": null,
   "metadata": {},
   "outputs": [],
   "source": []
  }
 ],
 "metadata": {
  "language_info": {
   "name": "python"
  },
  "orig_nbformat": 4
 },
 "nbformat": 4,
 "nbformat_minor": 2
}
