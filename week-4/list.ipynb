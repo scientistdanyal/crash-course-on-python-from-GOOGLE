{
 "cells": [
  {
   "cell_type": "code",
   "execution_count": 3,
   "metadata": {},
   "outputs": [
    {
     "name": "stdout",
     "output_type": "stream",
     "text": [
      "['Apple', 'Banana', 'Pineapple']\n"
     ]
    }
   ],
   "source": [
    "fruits = ['apple','Banana','Pineapple']\n",
    "\n",
    "fruits[0] = 'Apple'\n",
    "\n",
    "print(fruits)\n"
   ]
  },
  {
   "attachments": {},
   "cell_type": "markdown",
   "metadata": {},
   "source": [
    "## sorting\n"
   ]
  },
  {
   "cell_type": "code",
   "execution_count": 18,
   "metadata": {},
   "outputs": [
    {
     "name": "stdout",
     "output_type": "stream",
     "text": [
      "['Apple', 'Banana', 'Milkshake', 'Milkshake', 'Milkshake', 'Pineapple', 'Watermelon', 'Watermelon', 'Watermelon']\n",
      "['Watermelon', 'Watermelon', 'Watermelon', 'Pineapple', 'Milkshake', 'Milkshake', 'Milkshake', 'Banana', 'Apple']\n"
     ]
    }
   ],
   "source": [
    "fruits.sort()\n",
    "print(fruits)\n",
    "\n",
    "fruits.reverse()\n",
    "\n",
    "print(fruits)"
   ]
  },
  {
   "attachments": {},
   "cell_type": "markdown",
   "metadata": {},
   "source": [
    "## inser , pop , append , remove"
   ]
  },
  {
   "cell_type": "code",
   "execution_count": null,
   "metadata": {},
   "outputs": [],
   "source": [
    "print(fruits)\n",
    "\n",
    "fruits.sort()\n",
    "\n",
    "fruits.append('Watermelon')\n",
    "print(fruits)\n",
    "\n",
    "# fruits.insert(2,'Milkshake')\n",
    "\n",
    "# print(fruits)\n",
    "\n",
    "fruits.remove('Watermelon')\n",
    "print(fruits)"
   ]
  },
  {
   "attachments": {},
   "cell_type": "markdown",
   "metadata": {},
   "source": [
    "## clear"
   ]
  },
  {
   "cell_type": "code",
   "execution_count": 21,
   "metadata": {},
   "outputs": [
    {
     "name": "stdout",
     "output_type": "stream",
     "text": [
      "[]\n"
     ]
    },
    {
     "data": {
      "text/plain": [
       "2"
      ]
     },
     "execution_count": 21,
     "metadata": {},
     "output_type": "execute_result"
    }
   ],
   "source": [
    "names = ['danyal','ali']\n",
    "\n",
    "names.clear()\n",
    "\n",
    "print(names)\n",
    "\n",
    "names = [('danyal'),('ali')]\n",
    "\n",
    "len(names)"
   ]
  },
  {
   "attachments": {},
   "cell_type": "markdown",
   "metadata": {},
   "source": [
    "# copy"
   ]
  },
  {
   "cell_type": "code",
   "execution_count": 25,
   "metadata": {},
   "outputs": [
    {
     "name": "stdout",
     "output_type": "stream",
     "text": [
      "['Watermelon', 'Watermelon', 'Watermelon', 'Pineapple', 'Milkshake', 'Milkshake', 'Milkshake', 'Banana', 'Apple']\n"
     ]
    }
   ],
   "source": [
    "x = fruits.copy()\n",
    "\n",
    "print(x)"
   ]
  }
 ],
 "metadata": {
  "kernelspec": {
   "display_name": "Python 3",
   "language": "python",
   "name": "python3"
  },
  "language_info": {
   "codemirror_mode": {
    "name": "ipython",
    "version": 3
   },
   "file_extension": ".py",
   "mimetype": "text/x-python",
   "name": "python",
   "nbconvert_exporter": "python",
   "pygments_lexer": "ipython3",
   "version": "3.11.3"
  },
  "orig_nbformat": 4
 },
 "nbformat": 4,
 "nbformat_minor": 2
}
